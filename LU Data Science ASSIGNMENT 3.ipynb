{
 "cells": [
  {
   "cell_type": "markdown",
   "metadata": {},
   "source": [
    "# Answer 1"
   ]
  },
  {
   "cell_type": "code",
   "execution_count": 1,
   "metadata": {},
   "outputs": [
    {
     "name": "stdout",
     "output_type": "stream",
     "text": [
      "[ 2  5  8 11 14 17 20 23 26 29 32 35 38 41 44 47 50]\n"
     ]
    }
   ],
   "source": [
    "import numpy as np\n",
    "\n",
    "array = np.arange(2, 51, 3)\n",
    "\n",
    "print(array)"
   ]
  },
  {
   "cell_type": "markdown",
   "metadata": {},
   "source": [
    "# Answer 2"
   ]
  },
  {
   "cell_type": "code",
   "execution_count": 9,
   "metadata": {},
   "outputs": [
    {
     "name": "stdout",
     "output_type": "stream",
     "text": [
      "\n",
      "Enter elements for List1 :1\n",
      "\n",
      "Enter elements for List1 :6\n",
      "\n",
      "Enter elements for List1 :4\n",
      "\n",
      "Enter elements for List1 :3\n",
      "\n",
      "Enter elements for List1 :8\n",
      "List one = [1, 6, 4, 3, 8]\n",
      "\n",
      "Enter elements for List2 :2\n",
      "\n",
      "Enter elements for List2 :7\n",
      "\n",
      "Enter elements for List2 :5\n",
      "\n",
      "Enter elements for List2 :9\n",
      "\n",
      "Enter elements for List2 :0\n",
      "List two = [2, 7, 5, 9, 0]\n",
      "\n",
      "Conversion of List one to array : [1 6 4 3 8]\n",
      "\n",
      "Conversion of List two to array : [2 7 5 9 0]\n",
      "\n",
      "Concatenation of array1 and array2 are : [1 6 4 3 8 2 7 5 9 0]\n",
      "\n",
      "Sorting of Array : [0 1 2 3 4 5 6 7 8 9]\n"
     ]
    }
   ],
   "source": [
    "import numpy as np\n",
    "\n",
    "list1 = []\n",
    "list2 = []\n",
    "\n",
    "for i in range(5):\n",
    "    l1 = int(input(\"\\nEnter elements for List1 :\"))\n",
    "    list1.append(l1)\n",
    "    \n",
    "print(\"List one =\",list1)\n",
    "\n",
    "for i in range(5):\n",
    "    l2 = int(input(\"\\nEnter elements for List2 :\"))\n",
    "    list2.append(l2)\n",
    "    \n",
    "print(\"List two =\",list2)\n",
    "\n",
    "\n",
    "\n",
    "#coversion of Lists to numpy array\n",
    "\n",
    "array1 = np.array(list1)\n",
    "array2 = np.array(list2)\n",
    "print(\"\\nConversion of List one to array :\",array1)\n",
    "print(\"\\nConversion of List two to array :\",array2)\n",
    "\n",
    "\n",
    "#Concatenation of arrays\n",
    "\n",
    "concat = np.concatenate((array1,array2))\n",
    "    \n",
    "print(\"\\nConcatenation of array1 and array2 are :\",concat)\n",
    "\n",
    "#Sorting of arrays\n",
    "\n",
    "print(\"\\nSorting of Array :\",np.sort(concat))\n"
   ]
  },
  {
   "cell_type": "markdown",
   "metadata": {},
   "source": [
    "# Answer 3"
   ]
  },
  {
   "cell_type": "code",
   "execution_count": 8,
   "metadata": {},
   "outputs": [
    {
     "name": "stdout",
     "output_type": "stream",
     "text": [
      "\n",
      "Dimensions of nd array = 2\n",
      "\n",
      "Size of an Array = 9\n"
     ]
    }
   ],
   "source": [
    "import numpy as np\n",
    "\n",
    "arr = np.array([[1,2,3],[4,5,6],[7,8,9]])\n",
    "\n",
    "print(\"\\nDimensions of nd array =\",arr.ndim)\n",
    "print(\"\\nSize of an Array =\",arr.size)"
   ]
  },
  {
   "cell_type": "markdown",
   "metadata": {},
   "source": [
    "# Answer 4"
   ]
  },
  {
   "cell_type": "code",
   "execution_count": 17,
   "metadata": {},
   "outputs": [
    {
     "name": "stdout",
     "output_type": "stream",
     "text": [
      "10\n",
      "\n",
      "Shape of 1D array : (10,)\n",
      "\n",
      "Shape of 2D Array in row major : (1, 10)\n",
      "\n",
      "Shape of 2D Array in column major : (10, 1)\n"
     ]
    }
   ],
   "source": [
    "import numpy as np\n",
    "\n",
    "\n",
    "arr = np.arange(int(input()))\n",
    "print(\"\\nShape of 1D array :\",arr.shape)\n",
    "\n",
    "arr_row = arr[np.newaxis, :]\n",
    "print(\"\\nShape of 2D Array in row major :\",arr_row.shape)\n",
    "\n",
    "arr_col = arr[:, np.newaxis]\n",
    "print(\"\\nShape of 2D Array in column major :\",arr_col.shape)"
   ]
  },
  {
   "cell_type": "markdown",
   "metadata": {},
   "source": [
    "# Answer 5"
   ]
  },
  {
   "cell_type": "code",
   "execution_count": 19,
   "metadata": {},
   "outputs": [
    {
     "name": "stdout",
     "output_type": "stream",
     "text": [
      "\n",
      "Horizontally Stacked : [  4  16  36  64  81 100]\n",
      "\n",
      "Vertically Stacked : [[  4  16  36]\n",
      " [ 64  81 100]]\n"
     ]
    }
   ],
   "source": [
    "import numpy as np\n",
    "\n",
    "arr1 = np.square([2,4,6])\n",
    "arr2 = np.square([8,9,10])\n",
    "\n",
    "print(\"\\nHorizontally Stacked :\", np.hstack((arr1,arr2)))\n",
    "print(\"\\nVertically Stacked :\", np.vstack((arr1,arr2)))"
   ]
  },
  {
   "cell_type": "markdown",
   "metadata": {},
   "source": [
    "# Answer 6"
   ]
  },
  {
   "cell_type": "code",
   "execution_count": 24,
   "metadata": {},
   "outputs": [
    {
     "name": "stdout",
     "output_type": "stream",
     "text": [
      "[[1 1]\n",
      " [2 1]\n",
      " [3 1]\n",
      " [5 2]\n",
      " [6 1]\n",
      " [7 1]\n",
      " [8 1]\n",
      " [9 1]]\n"
     ]
    }
   ],
   "source": [
    "import numpy as np\n",
    "\n",
    "arr = np.array([1,5,8,2,3,5,9,7,6])\n",
    "\n",
    "unique, counts = np.unique(arr,return_counts=True)\n",
    "arr = np.asarray((unique, counts)).T\n",
    "\n",
    "print(arr)"
   ]
  }
 ],
 "metadata": {
  "kernelspec": {
   "display_name": "Python 3",
   "language": "python",
   "name": "python3"
  },
  "language_info": {
   "codemirror_mode": {
    "name": "ipython",
    "version": 3
   },
   "file_extension": ".py",
   "mimetype": "text/x-python",
   "name": "python",
   "nbconvert_exporter": "python",
   "pygments_lexer": "ipython3",
   "version": "3.7.3"
  }
 },
 "nbformat": 4,
 "nbformat_minor": 2
}
