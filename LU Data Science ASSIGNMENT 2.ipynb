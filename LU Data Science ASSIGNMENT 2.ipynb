{
 "cells": [
  {
   "cell_type": "markdown",
   "metadata": {},
   "source": [
    "# Answer 1"
   ]
  },
  {
   "cell_type": "code",
   "execution_count": 1,
   "metadata": {},
   "outputs": [
    {
     "name": "stdout",
     "output_type": "stream",
     "text": [
      "\n",
      "Enter the value:1\n",
      "\n",
      "Enter the value:2\n",
      "\n",
      "Enter the value:3\n",
      "\n",
      "Enter the value:4\n",
      "\n",
      "Enter the value:5\n",
      "\n",
      "Enter the value:6\n",
      "\n",
      "Enter the value:7\n",
      "\n",
      "Enter the value:8\n",
      "\n",
      "Enter the value:9\n",
      "\n",
      "Enter the value:1000\n",
      "[2, 4, 6, 8, 1000]\n"
     ]
    }
   ],
   "source": [
    "l=[]\n",
    "\n",
    "for i in range(10):\n",
    "    item = int(input(\"\\nEnter the value:\"))\n",
    "    if item%2==0:\n",
    "        l.append(item)\n",
    "        \n",
    "print(l)"
   ]
  },
  {
   "cell_type": "markdown",
   "metadata": {},
   "source": [
    "# Answer 2"
   ]
  },
  {
   "cell_type": "raw",
   "metadata": {},
   "source": [
    "#LIST COMPREHENSION\n",
    "\n",
    "\n",
    "List comprehensions are used for creating new lists from other iterables.\n",
    "\n",
    "As list comprehension return lists, they consist of brackets containing the expression, which is executed for each element along with the for loop to iterate over each element."
   ]
  },
  {
   "cell_type": "raw",
   "metadata": {},
   "source": [
    "#SYNTAX OF LIST COMPREHENSION\n",
    "\n",
    "[expression  for  item  in  iterable]"
   ]
  },
  {
   "cell_type": "code",
   "execution_count": 2,
   "metadata": {},
   "outputs": [
    {
     "name": "stdout",
     "output_type": "stream",
     "text": [
      "[1, 4, 9, 16, 25, 100, 225, 400]\n"
     ]
    }
   ],
   "source": [
    "#EXAMPLE OF LIST COMPREHENSION\n",
    "\n",
    "#creating a list \n",
    "l = [1,2,3,4,5,10,15,20]\n",
    "\n",
    "#squaring of no.s using list comprehension\n",
    "s = [i**2 for i in l ]\n",
    "print(s)\n",
    "    "
   ]
  },
  {
   "cell_type": "markdown",
   "metadata": {},
   "source": [
    "# Answer 3"
   ]
  },
  {
   "cell_type": "code",
   "execution_count": 8,
   "metadata": {},
   "outputs": [
    {
     "name": "stdout",
     "output_type": "stream",
     "text": [
      "8\n",
      "{1: 1, 2: 4, 3: 9, 4: 16, 5: 25, 6: 36, 7: 49, 8: 64}\n"
     ]
    }
   ],
   "source": [
    "n = int(input( ))\n",
    "\n",
    "dict = {}\n",
    "\n",
    "for i in range(1 ,n+1):\n",
    "    dict[i] = i * i\n",
    "    \n",
    "print(dict)"
   ]
  },
  {
   "cell_type": "markdown",
   "metadata": {},
   "source": [
    "# Answer 4"
   ]
  },
  {
   "cell_type": "code",
   "execution_count": 4,
   "metadata": {},
   "outputs": [
    {
     "name": "stdout",
     "output_type": "stream",
     "text": [
      " 4\n",
      "UP 5\n",
      "DOWN 3\n",
      "LEFT 3\n",
      "RIGHT 2\n",
      "2\n"
     ]
    }
   ],
   "source": [
    "import math\n",
    "\n",
    "pos = {\"x\":0,\"y\":0}\n",
    "\n",
    "\n",
    "n = int(input(\" \"))\n",
    "\n",
    "for i in range (n):\n",
    "    \n",
    "    move = input(\"\").split()\n",
    "    \n",
    "    if move[0].upper() == \"UP\":\n",
    "        pos[\"y\"] += int(move[1])\n",
    "    elif move[0].upper() == \"DOWN\":\n",
    "        pos[\"y\"] -= int(move[1])\n",
    "    elif move[0].upper() == \"LEFT\":\n",
    "        pos[\"x\"] -= int(move[1])\n",
    "    elif move[0].upper() == \"RIGHT\":\n",
    "        pos[\"x\"] += int(move[1])\n",
    "    else:\n",
    "        print(\"Enter direction as UP/DOWN/LEFT/RIGHT\")\n",
    "\n",
    "        \n",
    "print(int(round(math.sqrt(pos[\"x\"]**2 + pos[\"y\"]**2))))"
   ]
  }
 ],
 "metadata": {
  "kernelspec": {
   "display_name": "Python 3",
   "language": "python",
   "name": "python3"
  },
  "language_info": {
   "codemirror_mode": {
    "name": "ipython",
    "version": 3
   },
   "file_extension": ".py",
   "mimetype": "text/x-python",
   "name": "python",
   "nbconvert_exporter": "python",
   "pygments_lexer": "ipython3",
   "version": "3.7.3"
  }
 },
 "nbformat": 4,
 "nbformat_minor": 2
}
